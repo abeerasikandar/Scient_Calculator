{
  "nbformat": 4,
  "nbformat_minor": 0,
  "metadata": {
    "colab": {
      "provenance": [],
      "authorship_tag": "ABX9TyMyaU4owA4g533Yc9ku8M40",
      "include_colab_link": true
    },
    "kernelspec": {
      "name": "python3",
      "display_name": "Python 3"
    },
    "language_info": {
      "name": "python"
    }
  },
  "cells": [
    {
      "cell_type": "markdown",
      "metadata": {
        "id": "view-in-github",
        "colab_type": "text"
      },
      "source": [
        "<a href=\"https://colab.research.google.com/github/abeerasikandar/Scient_Calculator/blob/main/Scientific_Calculator.ipynb\" target=\"_parent\"><img src=\"https://colab.research.google.com/assets/colab-badge.svg\" alt=\"Open In Colab\"/></a>"
      ]
    },
    {
      "cell_type": "code",
      "execution_count": null,
      "metadata": {
        "colab": {
          "base_uri": "https://localhost:8080/"
        },
        "id": "HgKkpH6lLA5r",
        "outputId": "5b91c963-8c40-4fb9-9e5c-4e35ba8742df"
      },
      "outputs": [
        {
          "metadata": {
            "tags": null
          },
          "name": "stdout",
          "output_type": "stream",
          "text": [
            "\n",
            "Scientific Calculator Menu:\n",
            "1. Addition\n",
            "2. Subtraction\n",
            "3. Multiplication\n",
            "4. Division\n",
            "5. Logarithm\n",
            "6. Absolute\n",
            "7. Sine\n",
            "8. Cosine\n",
            "9. Tangent\n",
            "0. Exit\n",
            "Result: cos(30.0) = 0.8660254037844387\n",
            "\n",
            "Scientific Calculator Menu:\n",
            "1. Addition\n",
            "2. Subtraction\n",
            "3. Multiplication\n",
            "4. Division\n",
            "5. Logarithm\n",
            "6. Absolute\n",
            "7. Sine\n",
            "8. Cosine\n",
            "9. Tangent\n",
            "0. Exit\n"
          ]
        }
      ],
      "source": [
        "import math\n",
        "\n",
        "def add(x, y):\n",
        "    return x + y\n",
        "\n",
        "def subtract(x, y):\n",
        "    return x - y\n",
        "\n",
        "def multiply(x, y):\n",
        "    return x * y\n",
        "\n",
        "def divide(x, y):\n",
        "    if y == 0:\n",
        "        return \"Error: Division by zero is not allowed.\"\n",
        "    return x / y\n",
        "\n",
        "def log(x, base=10):\n",
        "    if x <= 0:\n",
        "        return \"Error: Logarithm of non-positive number is not defined.\"\n",
        "    return math.log(x, base)\n",
        "\n",
        "def absolute(x):\n",
        "    return abs(x)\n",
        "\n",
        "def sine(x):\n",
        "    return math.sin(math.radians(x))\n",
        "\n",
        "def cosine(x):\n",
        "    return math.cos(math.radians(x))\n",
        "\n",
        "def tangent(x):\n",
        "    return math.tan(math.radians(x))\n",
        "\n",
        "def menu():\n",
        "    print(\"\\nScientific Calculator Menu:\")\n",
        "    print(\"1. Addition\")\n",
        "    print(\"2. Subtraction\")\n",
        "    print(\"3. Multiplication\")\n",
        "    print(\"4. Division\")\n",
        "    print(\"5. Logarithm\")\n",
        "    print(\"6. Absolute\")\n",
        "    print(\"7. Sine\")\n",
        "    print(\"8. Cosine\")\n",
        "    print(\"9. Tangent\")\n",
        "    print(\"0. Exit\")\n",
        "\n",
        "def main():\n",
        "    while True:\n",
        "        menu()\n",
        "        choice = input(\"Select an operation (0 to exit): \")\n",
        "\n",
        "        if choice == '0':\n",
        "            print(\"Exiting the calculator. Goodbye!\")\n",
        "            break\n",
        "\n",
        "        if choice in ['1', '2', '3', '4']:  # Basic operations\n",
        "            x = float(input(\"Enter first number: \"))\n",
        "            y = float(input(\"Enter second number: \"))\n",
        "\n",
        "            if choice == '1':\n",
        "                print(f\"Result: {x} + {y} = {add(x, y)}\")\n",
        "            elif choice == '2':\n",
        "                print(f\"Result: {x} - {y} = {subtract(x, y)}\")\n",
        "            elif choice == '3':\n",
        "                print(f\"Result: {x} * {y} = {multiply(x, y)}\")\n",
        "            elif choice == '4':\n",
        "                print(f\"Result: {x} / {y} = {divide(x, y)}\")\n",
        "\n",
        "        elif choice == '5':  # Logarithm\n",
        "            x = float(input(\"Enter the number: \"))\n",
        "            base = input(\"Enter base (default is 10): \")\n",
        "            base = float(base) if base else 10  # Default base is 10\n",
        "            print(f\"Result: log({x}) base {base} = {log(x, base)}\")\n",
        "\n",
        "        elif choice == '6':  # Absolute\n",
        "            x = float(input(\"Enter the number: \"))\n",
        "            print(f\"Result: |{x}| = {absolute(x)}\")\n",
        "\n",
        "        elif choice == '7':  # Sine\n",
        "            x = float(input(\"Enter the angle in degrees: \"))\n",
        "            print(f\"Result: sin({x}) = {sine(x)}\")\n",
        "\n",
        "        elif choice == '8':  # Cosine\n",
        "            x = float(input(\"Enter the angle in degrees: \"))\n",
        "            print(f\"Result: cos({x}) = {cosine(x)}\")\n",
        "\n",
        "        elif choice == '9':  # Tangent\n",
        "            x = float(input(\"Enter the angle in degrees: \"))\n",
        "            print(f\"Result: tan({x}) = {tangent(x)}\")\n",
        "\n",
        "        else:\n",
        "            print(\"Invalid input. Please try again.\")\n",
        "\n",
        "if __name__ == \"__main__\":\n",
        "    main()\n"
      ]
    }
  ]
}